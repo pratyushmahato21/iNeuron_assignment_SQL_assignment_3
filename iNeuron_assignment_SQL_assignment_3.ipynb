{
 "cells": [
  {
   "cell_type": "markdown",
   "id": "b8f7606d",
   "metadata": {},
   "source": [
    "Q-1. Write an SQL query to print the FIRST_NAME from Worker table after removing white spaces from the right side."
   ]
  },
  {
   "cell_type": "markdown",
   "id": "fc413e34",
   "metadata": {},
   "source": [
    "SELECT RTRIM(FIRST_NAME) from Worker;"
   ]
  },
  {
   "cell_type": "markdown",
   "id": "857f9012",
   "metadata": {},
   "source": [
    "Q-2. Write an SQL query that fetches the unique values of DEPARTMENT from Worker table and prints its length."
   ]
  },
  {
   "cell_type": "markdown",
   "id": "14df1401",
   "metadata": {},
   "source": [
    "SELECT DISTINCT(DEPARTMENT), LEN(DISTINCT(DEPARTMENT)) from Worker;"
   ]
  },
  {
   "cell_type": "markdown",
   "id": "431ae7e6",
   "metadata": {},
   "source": [
    "Q-3. Write an SQL query to fetch nth max salaries from a table."
   ]
  },
  {
   "cell_type": "markdown",
   "id": "fa0fddde",
   "metadata": {},
   "source": [
    "SELECT MAX(salary) from Worker;"
   ]
  },
  {
   "cell_type": "code",
   "execution_count": null,
   "id": "2fc98a7e",
   "metadata": {},
   "outputs": [],
   "source": []
  }
 ],
 "metadata": {
  "kernelspec": {
   "display_name": "Python 3 (ipykernel)",
   "language": "python",
   "name": "python3"
  },
  "language_info": {
   "codemirror_mode": {
    "name": "ipython",
    "version": 3
   },
   "file_extension": ".py",
   "mimetype": "text/x-python",
   "name": "python",
   "nbconvert_exporter": "python",
   "pygments_lexer": "ipython3",
   "version": "3.8.12"
  }
 },
 "nbformat": 4,
 "nbformat_minor": 5
}
